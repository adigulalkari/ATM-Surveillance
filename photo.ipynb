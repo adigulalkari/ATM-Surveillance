{
 "cells": [
  {
   "cell_type": "code",
   "execution_count": 1,
   "metadata": {},
   "outputs": [],
   "source": [
    "import numpy as np\n",
    "import dlib\n",
    "from PIL import Image\n",
    "import statistics\n",
    "import cv2\n",
    "from cv2 import *\n",
    "  \n",
    "# initialize the camera\n",
    "# If you have multiple camera connected with \n",
    "# current device, assign a value in cam_port \n",
    "# variable according to that\n",
    "def value():\n",
    "    val=input(\"Enter file name or press enter to start webcam:\\n\")\n",
    "    if val == \"\":\n",
    "        val=\"/dev/video0\"\n",
    "    return val\n",
    "cam = cv2.VideoCapture(value())\n",
    "  \n",
    "# reading the input using the camera\n",
    "result, image = cam.read()\n",
    "  \n",
    "# If image will detected without any error, \n",
    "# show result\n",
    "if result:\n",
    "    file='/home/sinjin/face/pic'\n",
    "    cv2.imwrite(filename=\"saved_img-final.jpg\",img=image)\n",
    "  \n",
    "# If captured image is corrupted, moving to else part\n",
    "else:\n",
    "    print(\"No image detected. Please! try again\")"
   ]
  }
 ],
 "metadata": {
  "kernelspec": {
   "display_name": "face",
   "language": "python",
   "name": "python3"
  },
  "language_info": {
   "codemirror_mode": {
    "name": "ipython",
    "version": 3
   },
   "file_extension": ".py",
   "mimetype": "text/x-python",
   "name": "python",
   "nbconvert_exporter": "python",
   "pygments_lexer": "ipython3",
   "version": "3.10.7"
  },
  "orig_nbformat": 4,
  "vscode": {
   "interpreter": {
    "hash": "f912a5417e6a450bf50220b760faa34ee5470ea20746dbbaf4201b3f83355cbb"
   }
  }
 },
 "nbformat": 4,
 "nbformat_minor": 2
}
